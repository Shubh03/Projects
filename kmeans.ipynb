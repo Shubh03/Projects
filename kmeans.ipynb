{
 "cells": [
  {
   "cell_type": "code",
   "execution_count": 1,
   "id": "b5f621a9",
   "metadata": {},
   "outputs": [],
   "source": [
    "import numpy as np\n",
    "import pandas as pd"
   ]
  },
  {
   "cell_type": "code",
   "execution_count": 2,
   "id": "e2b75b7b",
   "metadata": {},
   "outputs": [],
   "source": [
    "df=pd.read_csv('student_clustering.csv')"
   ]
  },
  {
   "cell_type": "code",
   "execution_count": 4,
   "id": "8a48d1a0",
   "metadata": {},
   "outputs": [
    {
     "data": {
      "text/plain": [
       "(200, 2)"
      ]
     },
     "execution_count": 4,
     "metadata": {},
     "output_type": "execute_result"
    }
   ],
   "source": [
    "df.shape"
   ]
  },
  {
   "cell_type": "code",
   "execution_count": 5,
   "id": "1df10f5f",
   "metadata": {},
   "outputs": [
    {
     "data": {
      "text/html": [
       "<div>\n",
       "<style scoped>\n",
       "    .dataframe tbody tr th:only-of-type {\n",
       "        vertical-align: middle;\n",
       "    }\n",
       "\n",
       "    .dataframe tbody tr th {\n",
       "        vertical-align: top;\n",
       "    }\n",
       "\n",
       "    .dataframe thead th {\n",
       "        text-align: right;\n",
       "    }\n",
       "</style>\n",
       "<table border=\"1\" class=\"dataframe\">\n",
       "  <thead>\n",
       "    <tr style=\"text-align: right;\">\n",
       "      <th></th>\n",
       "      <th>cgpa</th>\n",
       "      <th>iq</th>\n",
       "    </tr>\n",
       "  </thead>\n",
       "  <tbody>\n",
       "    <tr>\n",
       "      <th>0</th>\n",
       "      <td>5.13</td>\n",
       "      <td>88</td>\n",
       "    </tr>\n",
       "    <tr>\n",
       "      <th>1</th>\n",
       "      <td>5.90</td>\n",
       "      <td>113</td>\n",
       "    </tr>\n",
       "    <tr>\n",
       "      <th>2</th>\n",
       "      <td>8.36</td>\n",
       "      <td>93</td>\n",
       "    </tr>\n",
       "    <tr>\n",
       "      <th>3</th>\n",
       "      <td>8.27</td>\n",
       "      <td>97</td>\n",
       "    </tr>\n",
       "    <tr>\n",
       "      <th>4</th>\n",
       "      <td>5.45</td>\n",
       "      <td>110</td>\n",
       "    </tr>\n",
       "    <tr>\n",
       "      <th>...</th>\n",
       "      <td>...</td>\n",
       "      <td>...</td>\n",
       "    </tr>\n",
       "    <tr>\n",
       "      <th>195</th>\n",
       "      <td>4.68</td>\n",
       "      <td>89</td>\n",
       "    </tr>\n",
       "    <tr>\n",
       "      <th>196</th>\n",
       "      <td>8.57</td>\n",
       "      <td>118</td>\n",
       "    </tr>\n",
       "    <tr>\n",
       "      <th>197</th>\n",
       "      <td>5.85</td>\n",
       "      <td>112</td>\n",
       "    </tr>\n",
       "    <tr>\n",
       "      <th>198</th>\n",
       "      <td>6.23</td>\n",
       "      <td>108</td>\n",
       "    </tr>\n",
       "    <tr>\n",
       "      <th>199</th>\n",
       "      <td>8.82</td>\n",
       "      <td>117</td>\n",
       "    </tr>\n",
       "  </tbody>\n",
       "</table>\n",
       "<p>200 rows × 2 columns</p>\n",
       "</div>"
      ],
      "text/plain": [
       "     cgpa   iq\n",
       "0    5.13   88\n",
       "1    5.90  113\n",
       "2    8.36   93\n",
       "3    8.27   97\n",
       "4    5.45  110\n",
       "..    ...  ...\n",
       "195  4.68   89\n",
       "196  8.57  118\n",
       "197  5.85  112\n",
       "198  6.23  108\n",
       "199  8.82  117\n",
       "\n",
       "[200 rows x 2 columns]"
      ]
     },
     "execution_count": 5,
     "metadata": {},
     "output_type": "execute_result"
    }
   ],
   "source": [
    "df"
   ]
  },
  {
   "cell_type": "code",
   "execution_count": 8,
   "id": "e22307fd",
   "metadata": {},
   "outputs": [],
   "source": [
    "from sklearn.cluster import KMeans"
   ]
  },
  {
   "cell_type": "code",
   "execution_count": 9,
   "id": "4828ff1c",
   "metadata": {},
   "outputs": [
    {
     "data": {
      "text/plain": [
       "<matplotlib.collections.PathCollection at 0x22732adeee0>"
      ]
     },
     "execution_count": 9,
     "metadata": {},
     "output_type": "execute_result"
    },
    {
     "data": {
      "image/png": "[encoded data removed]",
      "text/plain": [
       "<Figure size 432x288 with 1 Axes>"
      ]
     },
     "metadata": {
      "needs_background": "light"
     },
     "output_type": "display_data"
    }
   ],
   "source": [
    "import matplotlib.pyplot as plt\n",
    "plt.scatter(df['cgpa'],df['iq'])"
   ]
  },
  {
   "cell_type": "code",
   "execution_count": 10,
   "id": "2836fb98",
   "metadata": {},
   "outputs": [
    {
     "name": "stderr",
     "output_type": "stream",
     "text": [
      "C:\\Users\\Shubham\\anaconda3\\lib\\site-packages\\sklearn\\cluster\\_kmeans.py:1036: UserWarning: KMeans is known to have a memory leak on Windows with MKL, when there are less chunks than available threads. You can avoid it by setting the environment variable OMP_NUM_THREADS=1.\n",
      "  warnings.warn(\n"
     ]
    }
   ],
   "source": [
    "wcss = []\n",
    "\n",
    "for i in range(1,11):\n",
    "    km = KMeans(n_clusters = i)\n",
    "    km.fit_predict(df)\n",
    "    wcss.append(km.inertia_)"
   ]
  },
  {
   "cell_type": "code",
   "execution_count": 11,
   "id": "b62b6bff",
   "metadata": {},
   "outputs": [
    {
     "data": {
      "text/plain": [
       "[29957.898287999997,\n",
       " 4184.14127,\n",
       " 2362.7133489999997,\n",
       " 681.96966,\n",
       " 514.1616803171114,\n",
       " 388.8524026875981,\n",
       " 295.4391895943192,\n",
       " 234.48687343199217,\n",
       " 199.9912003256784,\n",
       " 176.5699329834639]"
      ]
     },
     "execution_count": 11,
     "metadata": {},
     "output_type": "execute_result"
    }
   ],
   "source": [
    "wcss"
   ]
  },
  {
   "cell_type": "code",
   "execution_count": 12,
   "id": "183833e9",
   "metadata": {},
   "outputs": [
    {
     "data": {
      "text/plain": [
       "[<matplotlib.lines.Line2D at 0x22732a95eb0>]"
      ]
     },
     "execution_count": 12,
     "metadata": {},
     "output_type": "execute_result"
    },
    {
     "data": {
      "image/png": "[encoded data removed]",
      "text/plain": [
       "<Figure size 432x288 with 1 Axes>"
      ]
     },
     "metadata": {
      "needs_background": "light"
     },
     "output_type": "display_data"
    }
   ],
   "source": [
    "plt.plot(range(1,11),wcss)"
   ]
  },
  {
   "cell_type": "code",
   "execution_count": null,
   "id": "abf8feef",
   "metadata": {},
   "outputs": [],
   "source": []
  },
  {
   "cell_type": "code",
   "execution_count": 13,
   "id": "c79f5687",
   "metadata": {},
   "outputs": [
    {
     "data": {
      "text/plain": [
       "array([[  5.13,  88.  ],\n",
       "       [  5.9 , 113.  ],\n",
       "       [  8.36,  93.  ],\n",
       "       [  8.27,  97.  ],\n",
       "       [  5.45, 110.  ],\n",
       "       [  5.88, 109.  ],\n",
       "       [  8.41,  98.  ],\n",
       "       [  8.8 , 115.  ],\n",
       "       [  5.79, 110.  ],\n",
       "       [  8.09,  94.  ],\n",
       "       [  4.6 ,  86.  ],\n",
       "       [  6.1 , 110.  ],\n",
       "       [  8.16,  97.  ],\n",
       "       [  5.  ,  88.  ],\n",
       "       [  5.71, 108.  ],\n",
       "       [  8.31,  95.  ],\n",
       "       [  5.5 , 111.  ],\n",
       "       [  7.87,  91.  ],\n",
       "       [  6.05, 111.  ],\n",
       "       [  5.84, 113.  ],\n",
       "       [  7.47,  98.  ],\n",
       "       [  4.86,  86.  ],\n",
       "       [  7.78,  92.  ],\n",
       "       [  4.78,  87.  ],\n",
       "       [  4.96,  88.  ],\n",
       "       [  7.93,  98.  ],\n",
       "       [  4.86,  87.  ],\n",
       "       [  9.18, 119.  ],\n",
       "       [  8.04,  94.  ],\n",
       "       [  5.43, 106.  ],\n",
       "       [  8.86, 117.  ],\n",
       "       [  6.01, 112.  ],\n",
       "       [  8.83, 118.  ],\n",
       "       [  5.32, 106.  ],\n",
       "       [  7.77,  96.  ],\n",
       "       [  8.  ,  96.  ],\n",
       "       [  8.56, 118.  ],\n",
       "       [  5.91, 108.  ],\n",
       "       [  5.44,  84.  ],\n",
       "       [  5.57, 113.  ],\n",
       "       [  5.34,  85.  ],\n",
       "       [  8.43,  96.  ],\n",
       "       [  8.02,  93.  ],\n",
       "       [  5.31,  86.  ],\n",
       "       [  8.96, 116.  ],\n",
       "       [  8.78, 116.  ],\n",
       "       [  8.14,  94.  ],\n",
       "       [  6.4 , 108.  ],\n",
       "       [  8.45, 119.  ],\n",
       "       [  5.67, 109.  ],\n",
       "       [  5.14,  83.  ],\n",
       "       [  4.95,  86.  ],\n",
       "       [  8.79, 116.  ],\n",
       "       [  8.12,  96.  ],\n",
       "       [  8.81, 115.  ],\n",
       "       [  6.05, 108.  ],\n",
       "       [  5.85, 111.  ],\n",
       "       [  8.88, 115.  ],\n",
       "       [  5.87, 109.  ],\n",
       "       [  9.07, 117.  ],\n",
       "       [  6.02, 104.  ],\n",
       "       [  8.34,  96.  ],\n",
       "       [  8.65,  95.  ],\n",
       "       [  8.92, 118.  ],\n",
       "       [  5.21,  87.  ],\n",
       "       [  8.75, 113.  ],\n",
       "       [  8.53,  93.  ],\n",
       "       [  4.91,  85.  ],\n",
       "       [  5.77, 111.  ],\n",
       "       [  8.29,  95.  ],\n",
       "       [  6.06, 109.  ],\n",
       "       [  8.71, 116.  ],\n",
       "       [  7.93,  94.  ],\n",
       "       [  5.28,  83.  ],\n",
       "       [  5.55, 109.  ],\n",
       "       [  8.86, 118.  ],\n",
       "       [  5.81, 112.  ],\n",
       "       [  9.3 , 117.  ],\n",
       "       [  5.15,  88.  ],\n",
       "       [  8.72,  92.  ],\n",
       "       [  8.14,  91.  ],\n",
       "       [  9.01, 121.  ],\n",
       "       [  5.47, 111.  ],\n",
       "       [  4.9 ,  85.  ],\n",
       "       [  8.97, 116.  ],\n",
       "       [  4.89,  88.  ],\n",
       "       [  9.  , 117.  ],\n",
       "       [  5.74, 109.  ],\n",
       "       [  8.76, 117.  ],\n",
       "       [  5.8 , 108.  ],\n",
       "       [  8.78, 117.  ],\n",
       "       [  9.23, 114.  ],\n",
       "       [  8.2 ,  92.  ],\n",
       "       [  5.05,  86.  ],\n",
       "       [  8.67,  95.  ],\n",
       "       [  8.18,  94.  ],\n",
       "       [  9.03, 118.  ],\n",
       "       [  8.61,  95.  ],\n",
       "       [  4.98,  91.  ],\n",
       "       [  9.13, 118.  ],\n",
       "       [  5.88, 110.  ],\n",
       "       [  5.01,  86.  ],\n",
       "       [  4.95,  88.  ],\n",
       "       [  8.91, 119.  ],\n",
       "       [  4.96,  89.  ],\n",
       "       [  4.85,  86.  ],\n",
       "       [  7.99,  92.  ],\n",
       "       [  4.76,  90.  ],\n",
       "       [  8.98, 118.  ],\n",
       "       [  9.03, 118.  ],\n",
       "       [  8.08,  94.  ],\n",
       "       [  8.86, 117.  ],\n",
       "       [  5.91, 109.  ],\n",
       "       [  5.67, 111.  ],\n",
       "       [  8.26,  91.  ],\n",
       "       [  8.89, 118.  ],\n",
       "       [  8.25,  95.  ],\n",
       "       [  5.74, 108.  ],\n",
       "       [  8.97, 117.  ],\n",
       "       [  4.98,  87.  ],\n",
       "       [  4.78,  87.  ],\n",
       "       [  5.69, 109.  ],\n",
       "       [  8.4 ,  93.  ],\n",
       "       [  8.72, 119.  ],\n",
       "       [  7.84,  97.  ],\n",
       "       [  5.2 ,  85.  ],\n",
       "       [  8.08,  98.  ],\n",
       "       [  6.05, 109.  ],\n",
       "       [  5.05,  87.  ],\n",
       "       [  8.25,  96.  ],\n",
       "       [  8.3 ,  93.  ],\n",
       "       [  6.14, 111.  ],\n",
       "       [  5.01,  83.  ],\n",
       "       [  4.77,  86.  ],\n",
       "       [  5.74, 112.  ],\n",
       "       [  8.93, 118.  ],\n",
       "       [  5.94, 109.  ],\n",
       "       [  4.68,  87.  ],\n",
       "       [  7.9 , 100.  ],\n",
       "       [  7.97,  96.  ],\n",
       "       [  8.21,  94.  ],\n",
       "       [  4.81,  85.  ],\n",
       "       [  5.86, 111.  ],\n",
       "       [  5.03,  87.  ],\n",
       "       [  4.98,  87.  ],\n",
       "       [  8.58, 118.  ],\n",
       "       [  5.32,  88.  ],\n",
       "       [  8.94, 117.  ],\n",
       "       [  6.38, 107.  ],\n",
       "       [  4.86,  88.  ],\n",
       "       [  8.6 , 117.  ],\n",
       "       [  4.89,  85.  ],\n",
       "       [  8.77, 117.  ],\n",
       "       [  8.81, 116.  ],\n",
       "       [  4.88,  86.  ],\n",
       "       [  8.23,  95.  ],\n",
       "       [  6.61, 111.  ],\n",
       "       [  8.54, 118.  ],\n",
       "       [  6.04, 110.  ],\n",
       "       [  8.35,  93.  ],\n",
       "       [  5.01,  86.  ],\n",
       "       [  8.97, 119.  ],\n",
       "       [  6.24, 108.  ],\n",
       "       [  8.33,  92.  ],\n",
       "       [  8.91, 117.  ],\n",
       "       [  4.67,  86.  ],\n",
       "       [  6.1 , 109.  ],\n",
       "       [  5.15,  85.  ],\n",
       "       [  4.97,  88.  ],\n",
       "       [  8.68, 119.  ],\n",
       "       [  9.06, 120.  ],\n",
       "       [  5.8 , 110.  ],\n",
       "       [  8.9 , 117.  ],\n",
       "       [  4.87,  88.  ],\n",
       "       [  5.2 ,  89.  ],\n",
       "       [  8.46,  98.  ],\n",
       "       [  8.94, 115.  ],\n",
       "       [  5.87, 108.  ],\n",
       "       [  4.99,  88.  ],\n",
       "       [  8.91, 115.  ],\n",
       "       [  8.91, 117.  ],\n",
       "       [  5.97, 108.  ],\n",
       "       [  6.17, 110.  ],\n",
       "       [  6.01, 107.  ],\n",
       "       [  7.89,  96.  ],\n",
       "       [  4.79,  88.  ],\n",
       "       [  7.91,  93.  ],\n",
       "       [  8.23,  91.  ],\n",
       "       [  8.95, 116.  ],\n",
       "       [  6.33, 111.  ],\n",
       "       [  8.4 ,  93.  ],\n",
       "       [  8.44,  94.  ],\n",
       "       [  4.76,  89.  ],\n",
       "       [  4.78,  85.  ],\n",
       "       [  8.79,  96.  ],\n",
       "       [  4.68,  89.  ],\n",
       "       [  8.57, 118.  ],\n",
       "       [  5.85, 112.  ],\n",
       "       [  6.23, 108.  ],\n",
       "       [  8.82, 117.  ]])"
      ]
     },
     "execution_count": 13,
     "metadata": {},
     "output_type": "execute_result"
    }
   ],
   "source": [
    "df.iloc[:,:].values"
   ]
  },
  {
   "cell_type": "code",
   "execution_count": 15,
   "id": "bb7f79e7",
   "metadata": {},
   "outputs": [],
   "source": [
    "x = df.iloc[:,:].values\n",
    "km = KMeans(n_clusters=4)\n",
    "y_means = km.fit_predict(x)"
   ]
  },
  {
   "cell_type": "code",
   "execution_count": 22,
   "id": "22ef7787",
   "metadata": {},
   "outputs": [
    {
     "data": {
      "text/plain": [
       "array([1, 3, 2, 2, 3, 3, 2, 0, 3, 2, 1, 3, 2, 1, 3, 2, 3, 2, 3, 3, 2, 1,\n",
       "       2, 1, 1, 2, 1, 0, 2, 3, 0, 3, 0, 3, 2, 2, 0, 3, 1, 3, 1, 2, 2, 1,\n",
       "       0, 0, 2, 3, 0, 3, 1, 1, 0, 2, 0, 3, 3, 0, 3, 0, 3, 2, 2, 0, 1, 0,\n",
       "       2, 1, 3, 2, 3, 0, 2, 1, 3, 0, 3, 0, 1, 2, 2, 0, 3, 1, 0, 1, 0, 3,\n",
       "       0, 3, 0, 0, 2, 1, 2, 2, 0, 2, 1, 0, 3, 1, 1, 0, 1, 1, 2, 1, 0, 0,\n",
       "       2, 0, 3, 3, 2, 0, 2, 3, 0, 1, 1, 3, 2, 0, 2, 1, 2, 3, 1, 2, 2, 3,\n",
       "       1, 1, 3, 0, 3, 1, 2, 2, 2, 1, 3, 1, 1, 0, 1, 0, 3, 1, 0, 1, 0, 0,\n",
       "       1, 2, 3, 0, 3, 2, 1, 0, 3, 2, 0, 1, 3, 1, 1, 0, 0, 3, 0, 1, 1, 2,\n",
       "       0, 3, 1, 0, 0, 3, 3, 3, 2, 1, 2, 2, 0, 3, 2, 2, 1, 1, 2, 1, 0, 3,\n",
       "       3, 0])"
      ]
     },
     "execution_count": 22,
     "metadata": {},
     "output_type": "execute_result"
    }
   ],
   "source": [
    "y_means"
   ]
  },
  {
   "cell_type": "code",
   "execution_count": 23,
   "id": "84b3f8ac",
   "metadata": {},
   "outputs": [
    {
     "data": {
      "text/plain": [
       "array([[  5.9 , 113.  ],\n",
       "       [  5.45, 110.  ],\n",
       "       [  5.88, 109.  ],\n",
       "       [  5.79, 110.  ],\n",
       "       [  6.1 , 110.  ],\n",
       "       [  5.71, 108.  ],\n",
       "       [  5.5 , 111.  ],\n",
       "       [  6.05, 111.  ],\n",
       "       [  5.84, 113.  ],\n",
       "       [  5.43, 106.  ],\n",
       "       [  6.01, 112.  ],\n",
       "       [  5.32, 106.  ],\n",
       "       [  5.91, 108.  ],\n",
       "       [  5.57, 113.  ],\n",
       "       [  6.4 , 108.  ],\n",
       "       [  5.67, 109.  ],\n",
       "       [  6.05, 108.  ],\n",
       "       [  5.85, 111.  ],\n",
       "       [  5.87, 109.  ],\n",
       "       [  6.02, 104.  ],\n",
       "       [  5.77, 111.  ],\n",
       "       [  6.06, 109.  ],\n",
       "       [  5.55, 109.  ],\n",
       "       [  5.81, 112.  ],\n",
       "       [  5.47, 111.  ],\n",
       "       [  5.74, 109.  ],\n",
       "       [  5.8 , 108.  ],\n",
       "       [  5.88, 110.  ],\n",
       "       [  5.91, 109.  ],\n",
       "       [  5.67, 111.  ],\n",
       "       [  5.74, 108.  ],\n",
       "       [  5.69, 109.  ],\n",
       "       [  6.05, 109.  ],\n",
       "       [  6.14, 111.  ],\n",
       "       [  5.74, 112.  ],\n",
       "       [  5.94, 109.  ],\n",
       "       [  5.86, 111.  ],\n",
       "       [  6.38, 107.  ],\n",
       "       [  6.61, 111.  ],\n",
       "       [  6.04, 110.  ],\n",
       "       [  6.24, 108.  ],\n",
       "       [  6.1 , 109.  ],\n",
       "       [  5.8 , 110.  ],\n",
       "       [  5.87, 108.  ],\n",
       "       [  5.97, 108.  ],\n",
       "       [  6.17, 110.  ],\n",
       "       [  6.01, 107.  ],\n",
       "       [  6.33, 111.  ],\n",
       "       [  5.85, 112.  ],\n",
       "       [  6.23, 108.  ]])"
      ]
     },
     "execution_count": 23,
     "metadata": {},
     "output_type": "execute_result"
    }
   ],
   "source": [
    "#data of cluster 3\n",
    "x[y_means == 3]"
   ]
  },
  {
   "cell_type": "code",
   "execution_count": 25,
   "id": "d9a6f2e0",
   "metadata": {},
   "outputs": [
    {
     "data": {
      "text/plain": [
       "array([5.9 , 5.45, 5.88, 5.79, 6.1 , 5.71, 5.5 , 6.05, 5.84, 5.43, 6.01,\n",
       "       5.32, 5.91, 5.57, 6.4 , 5.67, 6.05, 5.85, 5.87, 6.02, 5.77, 6.06,\n",
       "       5.55, 5.81, 5.47, 5.74, 5.8 , 5.88, 5.91, 5.67, 5.74, 5.69, 6.05,\n",
       "       6.14, 5.74, 5.94, 5.86, 6.38, 6.61, 6.04, 6.24, 6.1 , 5.8 , 5.87,\n",
       "       5.97, 6.17, 6.01, 6.33, 5.85, 6.23])"
      ]
     },
     "execution_count": 25,
     "metadata": {},
     "output_type": "execute_result"
    }
   ],
   "source": [
    "#first column\n",
    "x[y_means == 3,0]"
   ]
  },
  {
   "cell_type": "code",
   "execution_count": 28,
   "id": "c97625c7",
   "metadata": {},
   "outputs": [
    {
     "data": {
      "text/plain": [
       "<matplotlib.collections.PathCollection at 0x227353049a0>"
      ]
     },
     "execution_count": 28,
     "metadata": {},
     "output_type": "execute_result"
    },
    {
     "data": {
      "image/png": "[encoded data removed]",
      "text/plain": [
       "<Figure size 432x288 with 1 Axes>"
      ]
     },
     "metadata": {
      "needs_background": "light"
     },
     "output_type": "display_data"
    }
   ],
   "source": [
    "plt.scatter(x[y_means == 0,0],x[y_means == 0,1])\n",
    "plt.scatter(x[y_means == 1,0],x[y_means == 1,1])\n",
    "plt.scatter(x[y_means == 2,0],x[y_means == 2,1])\n",
    "plt.scatter(x[y_means == 3,0],x[y_means == 3,1])"
   ]
  },
  {
   "cell_type": "code",
   "execution_count": null,
   "id": "48d3a5b9",
   "metadata": {},
   "outputs": [],
   "source": []
  },
  {
   "cell_type": "code",
   "execution_count": 29,
   "id": "981ec979",
   "metadata": {},
   "outputs": [],
   "source": [
    "#kmeans on 3-d clustering\n"
   ]
  },
  {
   "cell_type": "code",
   "execution_count": null,
   "id": "f72c08b7",
   "metadata": {},
   "outputs": [],
   "source": []
  }
 ],
 "metadata": {
  "kernelspec": {
   "display_name": "Python 3 (ipykernel)",
   "language": "python",
   "name": "python3"
  },
  "language_info": {
   "codemirror_mode": {
    "name": "ipython",
    "version": 3
   },
   "file_extension": ".py",
   "mimetype": "text/x-python",
   "name": "python",
   "nbconvert_exporter": "python",
   "pygments_lexer": "ipython3",
   "version": "3.9.12"
  }
 },
 "nbformat": 4,
 "nbformat_minor": 5
}
